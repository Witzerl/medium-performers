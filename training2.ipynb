{
 "cells": [
  {
   "cell_type": "code",
   "execution_count": 1,
   "id": "dcd8cf92-639e-420b-9a06-eb96f985e58e",
   "metadata": {
    "tags": []
   },
   "outputs": [],
   "source": [
    "# prototype"
   ]
  },
  {
   "cell_type": "code",
   "execution_count": 2,
   "id": "635061ec-d667-4aa3-9186-5470e4720233",
   "metadata": {
    "tags": []
   },
   "outputs": [],
   "source": [
    "import os\n",
    "from os.path import join\n",
    "import random\n",
    "import numpy as np\n",
    "import matplotlib.pyplot as plt\n",
    "import nibabel as nib\n",
    "from skimage import measure\n",
    "from torch.utils.data import Dataset, DataLoader\n",
    "import torchio as tio\n",
    "from torchio.data import SubjectsLoader\n",
    "from monai.networks.nets import UNet\n",
    "\n",
    "from monai.networks.nets import UNet\n",
    "\n",
    "os.environ[\"CUDA_VISIBLE_DEVICES\"] = \"0\"\n",
    "import torch\n",
    "import torch.nn as nn\n",
    "from pathlib import Path\n",
    "from datetime import datetime\n",
    "\n",
    "seed = 42\n",
    "def set_seed(seed=42):\n",
    "    random.seed(seed)\n",
    "    np.random.seed(seed)\n",
    "    torch.manual_seed(seed)\n",
    "    torch.cuda.manual_seed(seed)\n",
    "    torch.cuda.manual_seed_all(seed)\n",
    "    torch.backends.cudnn.deterministic = True\n",
    "    torch.backends.cudnn.benchmark = False\n",
    "    os.environ['PYTHONHASHSEED'] = str(seed)\n",
    "\n",
    "set_seed(seed)"
   ]
  },
  {
   "cell_type": "code",
   "execution_count": 3,
   "id": "7ee88afc-07f3-447a-aafb-3c651df1ca90",
   "metadata": {
    "tags": []
   },
   "outputs": [
    {
     "name": "stdout",
     "output_type": "stream",
     "text": [
      "__Python VERSION: 3.9.21 (main, Dec 11 2024, 16:35:24) [MSC v.1929 64 bit (AMD64)]\n",
      "__pyTorch VERSION: 2.8.0.dev20250416+cu128\n",
      "__CUDA VERSION\n",
      "nvcc: NVIDIA (R) Cuda compiler driver\n",
      "Copyright (c) 2005-2025 NVIDIA Corporation\n",
      "Built on Fri_Feb_21_20:42:46_Pacific_Standard_Time_2025\n",
      "Cuda compilation tools, release 12.8, V12.8.93\n",
      "Build cuda_12.8.r12.8/compiler.35583870_0\n",
      "__CUDNN VERSION: 90701\n",
      "__Number CUDA Devices: 1\n",
      "__Devices\n",
      "Active CUDA Device: GPU 0\n",
      "Available devices  1\n",
      "Current cuda device  0\n"
     ]
    }
   ],
   "source": [
    "import sys\n",
    "print('__Python VERSION:', sys.version)\n",
    "print('__pyTorch VERSION:', torch.__version__)\n",
    "print('__CUDA VERSION')\n",
    "from subprocess import call\n",
    "! nvcc --version\n",
    "print('__CUDNN VERSION:', torch.backends.cudnn.version())\n",
    "print('__Number CUDA Devices:', torch.cuda.device_count())\n",
    "print('__Devices')\n",
    "call([\"nvidia-smi\", \"--format=csv\", \"--query-gpu=index,name,driver_version,memory.total,memory.used,memory.free\"])\n",
    "print('Active CUDA Device: GPU', torch.cuda.current_device())\n",
    "print ('Available devices ', torch.cuda.device_count())\n",
    "print ('Current cuda device ', torch.cuda.current_device())\n",
    "device = torch.device('cuda' if torch.cuda.is_available() else 'cpu')"
   ]
  },
  {
   "cell_type": "code",
   "execution_count": 4,
   "id": "2035143c-425b-475c-b5c6-dfd4725b66d8",
   "metadata": {
    "tags": []
   },
   "outputs": [],
   "source": [
    "from utils.loading_utils import *\n",
    "from utils.logging import *\n",
    "from visualization.visualization import *\n",
    "#from ml.dataset_ import BrainMetDatasetPreloaded, GridSamplerWrapper\n",
    "from ml.dataset_ import BrainMetPytorchDataset\n",
    "from ml.trainer import Trainer, load_trained_model"
   ]
  },
  {
   "cell_type": "code",
   "execution_count": 5,
   "outputs": [
    {
     "data": {
      "text/plain": "Launching TensorBoard..."
     },
     "metadata": {},
     "output_type": "display_data"
    }
   ],
   "source": [
    "%load_ext tensorboard\n",
    "%reload_ext tensorboard\n",
    "\n",
    "%tensorboard --logdir runs"
   ],
   "metadata": {
    "collapsed": false
   }
  },
  {
   "cell_type": "code",
   "execution_count": 6,
   "outputs": [
    {
     "name": "stdout",
     "output_type": "stream",
     "text": [
      "Known TensorBoard instances:\n",
      "  - port 6006: logdir runs (started 0:00:00 ago; pid 27000)\n"
     ]
    }
   ],
   "source": [
    "from tensorboard import notebook\n",
    "notebook.list()\n",
    "#notebook.display(port=6006, height=1000)\n",
    "\n",
    "#http://127.0.0.1:6006/?darkMode=true"
   ],
   "metadata": {
    "collapsed": false
   }
  },
  {
   "cell_type": "code",
   "execution_count": 7,
   "id": "9fac1496-8608-4b51-a1d7-4b43c8ff3371",
   "metadata": {
    "tags": []
   },
   "outputs": [],
   "source": [
    "TRAIN_ROOT_DIR  = './MICCAI-LH-BraTS2025-MET-Challenge-Training/'\n",
    "HELPER_ROOT_DIR = './training_helper/'\n",
    "\n",
    "dataset = BrainMetPytorchDataset(HELPER_ROOT_DIR, patch_size=(128, 128, 96))\n",
    "train_dataset, validation_dataset = torch.utils.data.random_split(dataset, [0.8, 0.2])\n",
    "\n",
    "train_dataloader = DataLoader(train_dataset, batch_size=16, num_workers=4, shuffle=True, pin_memory=True)\n",
    "validation_dataset = DataLoader(validation_dataset, batch_size=16, num_workers=4, shuffle=False, pin_memory=True)"
   ]
  },
  {
   "cell_type": "code",
   "execution_count": 8,
   "outputs": [],
   "source": [
    "device = 'cuda' if torch.cuda.is_available() else 'cpu'\n",
    "model = UNet(\n",
    "    spatial_dims=3,\n",
    "    in_channels=4,\n",
    "    out_channels=5,\n",
    "    channels=(32, 64, 128, 256, 512),\n",
    "    strides=(2, 2, 2, 2),\n",
    "    num_res_units=2,\n",
    ").to(device)\n",
    "\n",
    "\n",
    "def dice_loss(probs, targets, epsilon=1e-5):\n",
    "    # Assumes probs: [B, C, H, W, D], targets: [B, C, H, W, D]\n",
    "    intersection = (probs * targets).sum(dim=(2, 3, 4))\n",
    "    union = probs.sum(dim=(2, 3, 4)) + targets.sum(dim=(2, 3, 4))\n",
    "    dice = 2. * intersection / (union + epsilon)\n",
    "    return 1 - dice.mean()\n",
    "\n",
    "ce_loss = nn.CrossEntropyLoss()\n",
    "\n",
    "def loss_fn(logits, target):\n",
    "    target = target.to(torch.long)\n",
    "    if target.ndim == 5 and target.shape[1] == 1:\n",
    "        target = target[:, 0]              # [B, H, W, D]\n",
    "    ce = torch.nn.functional.cross_entropy(logits, target)\n",
    "\n",
    "    # --- Dice loss ---\n",
    "    probs = torch.softmax(logits, dim=1)  # [B, C, H, W, D]\n",
    "    one_hot_target = torch.nn.functional.one_hot(target, num_classes=logits.shape[1])  # [B, H, W, D, C]\n",
    "    one_hot_target = one_hot_target.permute(0, 4, 1, 2, 3).float()    # [B, C, H, W, D]\n",
    "\n",
    "    dice = dice_loss(probs, one_hot_target)\n",
    "\n",
    "    return ce + dice\n",
    "\n",
    "def dice_score(preds, targets, epsilon=1e-5):\n",
    "    \"\"\"\n",
    "    Computes mean Dice score over all classes, including background.\n",
    "\n",
    "    Args:\n",
    "        preds: [B, H, W, D] — predicted class labels\n",
    "        targets: [B, H, W, D] — ground truth labels\n",
    "    \"\"\"\n",
    "    num_classes = int(torch.max(targets).item()) + 1\n",
    "    dice_scores = []\n",
    "\n",
    "    for c in range(num_classes):  # include background (class 0)\n",
    "        pred_c = (preds == c).float()\n",
    "        target_c = (targets == c).float()\n",
    "\n",
    "        intersection = (pred_c * target_c).sum(dim=(1, 2, 3))\n",
    "        union = pred_c.sum(dim=(1, 2, 3)) + target_c.sum(dim=(1, 2, 3))\n",
    "\n",
    "        dice = (2 * intersection + epsilon) / (union + epsilon)\n",
    "        dice_scores.append(dice)\n",
    "\n",
    "    return torch.stack(dice_scores).mean()\n",
    "\n",
    "\n",
    "\n",
    "optimizer = torch.optim.AdamW(model.parameters(), lr=1e-4)"
   ],
   "metadata": {
    "collapsed": false
   }
  },
  {
   "cell_type": "code",
   "execution_count": 9,
   "outputs": [
    {
     "name": "stderr",
     "output_type": "stream",
     "text": [
      "Epoch: 1 [train]:   0%|          | 0/1 [00:00<?, ?it/s]D:\\Schule\\JKU\\MA_2_Semester\\MedicalImaging\\ml\\trainer.py:116: UserWarning: Converting a tensor with requires_grad=True to a scalar may lead to unexpected behavior.\n",
      "Consider using tensor.detach() first. (Triggered internally at C:\\actions-runner\\_work\\pytorch\\pytorch\\pytorch\\aten\\src\\ATen\\native\\Scalar.cpp:23.)\n",
      "  losses.append(loss_value.item())\n",
      "Epoch: 1 [train]: 100%|██████████| 1/1 [00:12<00:00, 12.18s/it, train_loss=2.9098]\n",
      "Epoch: 1 [valid]: 100%|██████████| 1/1 [00:06<00:00,  6.85s/it, valid_loss=2.8704]\n"
     ]
    },
    {
     "name": "stdout",
     "output_type": "stream",
     "text": [
      "\n",
      "Epoch Summary:\n",
      "  train-loss: 2.9098\n",
      "  metric-loss: 0.0048\n",
      "  valid-loss: 2.8704\n"
     ]
    },
    {
     "name": "stderr",
     "output_type": "stream",
     "text": [
      "Epoch: 2 [train]: 100%|██████████| 1/1 [00:11<00:00, 11.12s/it, train_loss=2.8572]\n",
      "Epoch: 2 [valid]: 100%|██████████| 1/1 [00:06<00:00,  6.95s/it, valid_loss=2.8340]\n"
     ]
    },
    {
     "name": "stdout",
     "output_type": "stream",
     "text": [
      "\n",
      "Epoch Summary:\n",
      "  train-loss: 2.8572\n",
      "  metric-loss: 0.0048\n",
      "  valid-loss: 2.8340\n"
     ]
    },
    {
     "data": {
      "text/plain": "<Figure size 1000x400 with 2 Axes>",
      "image/png": "[encoded data removed]"
     },
     "metadata": {},
     "output_type": "display_data"
    }
   ],
   "source": [
    "#train_dataloader, val_dataloader = load_data(batch_size=args.batch_size, num_workers=args.num_workers, use_torchio_version=args.use_torchio)\n",
    "num_epochs = 10\n",
    "dir = f'./runs/run_{datetime.now().strftime(\"%Y-%m-%d_%H-%M-%S\")}'\n",
    "progress = ProgressBar()\n",
    "tb = TensorBoard(path=dir)\n",
    "checkpoints = Backup(path=dir, every=5)\n",
    "\n",
    "trainer = Trainer(model, optimizer, loss_fn, dice_score, device=device, use_torchio=False)\n",
    "checkpoints.attach_trainer(trainer)\n",
    "trainer.tracker.loggers = [progress, tb, checkpoints]\n",
    "\n",
    "trainer.train(train_loader=train_dataloader, val_loader=validation_dataset, epochs=2)"
   ],
   "metadata": {
    "collapsed": false
   }
  },
  {
   "cell_type": "code",
   "execution_count": 9,
   "outputs": [],
   "source": [],
   "metadata": {
    "collapsed": false
   }
  },
  {
   "cell_type": "code",
   "execution_count": 11,
   "outputs": [
    {
     "name": "stdout",
     "output_type": "stream",
     "text": [
      "Loading checkpoint: epoch_005.pth\n"
     ]
    }
   ],
   "source": [
    "loaded_model = load_trained_model(\n",
    "    run_dir=\"./runs/run_2025-05-12_19-11-47\",\n",
    "    model_class=UNet,\n",
    "    device='cuda',\n",
    "    spatial_dims=3,\n",
    "    in_channels=4,\n",
    "    out_channels=5,\n",
    "    channels=(32, 64, 128, 256, 512),\n",
    "    strides=(2, 2, 2, 2),\n",
    "    num_res_units=2\n",
    ")"
   ],
   "metadata": {
    "collapsed": false
   }
  },
  {
   "cell_type": "code",
   "execution_count": null,
   "outputs": [],
   "source": [
    "import nibabel as nib\n",
    "import numpy as np\n",
    "import matplotlib.pyplot as plt\n",
    "\n",
    "def resample_nearest_numpy(volume, input_spacing, target_spacing=(1.0, 1.0, 1.0)):\n",
    "    input_spacing = np.array(input_spacing)\n",
    "    target_spacing = np.array(target_spacing)\n",
    "    zoom_factors = input_spacing / target_spacing\n",
    "\n",
    "    input_shape = np.array(volume.shape)\n",
    "    output_shape = np.round(input_shape * zoom_factors).astype(int)\n",
    "\n",
    "    # Create output grid\n",
    "    dz = np.linspace(0, input_shape[0] - 1, output_shape[0]).astype(int)\n",
    "    dy = np.linspace(0, input_shape[1] - 1, output_shape[1]).astype(int)\n",
    "    dx = np.linspace(0, input_shape[2] - 1, output_shape[2]).astype(int)\n",
    "\n",
    "    # Meshgrid for indexing\n",
    "    zz, yy, xx = np.meshgrid(dz, dy, dx, indexing='ij')\n",
    "\n",
    "    return volume[zz, yy, xx]\n",
    "\n",
    "# Example usage:\n",
    "\n",
    "tmp= 'BraTS-MET-00758-000'\n",
    "path = f\"./MICCAI-LH-BraTS2025-MET-Challenge-Training/{tmp}/{tmp}-t1c.nii.gz\"\n",
    "\n",
    "img = nib.load(path)\n",
    "data = img.get_fdata(dtype=np.float32)\n",
    "spacing = img.header.get_zooms()[:3]\n",
    "\n",
    "#print(data.shape)\n",
    "#print(spacing)\n",
    "\n",
    "# Resample to (1.0, 1.0, 1.0)\n",
    "resampled  = resample_nearest_numpy(data, spacing, target_spacing=(1.0, 1.0, 1.0))\n",
    "\n",
    "print(\"Original shape:\", data.shape)\n",
    "print(\"Original spacing:\", spacing)\n",
    "print(\"Original spacing:\", type(spacing))\n",
    "print(\"Resampled shape:\", resampled.shape)\n",
    "print(\"Resampled shape:\", type(resampled))\n",
    "\n",
    "# === Visualize center slice ===\n",
    "z_orig = data.shape[2] // 2\n",
    "z_resampled = resampled.shape[2] // 2\n",
    "\n",
    "plt.figure(figsize=(10, 5))\n",
    "\n",
    "plt.subplot(1, 2, 1)\n",
    "plt.imshow(data[:, :, z_orig].T, cmap=\"gray\", origin=\"lower\")\n",
    "plt.title(f\"Original\\nShape: {data.shape}\\nSpacing: {spacing}\")\n",
    "plt.axis(\"off\")\n",
    "\n",
    "plt.subplot(1, 2, 2)\n",
    "plt.imshow(resampled[:, :, z_resampled].T, cmap=\"gray\", origin=\"lower\")\n",
    "plt.title(f\"Resampled\\nShape: {resampled.shape}\\nSpacing: (1.0, 1.0, 1.0)\")\n",
    "plt.axis(\"off\")\n",
    "\n",
    "plt.tight_layout()\n",
    "plt.show()"
   ],
   "metadata": {
    "collapsed": false
   }
  }
 ],
 "metadata": {
  "kernelspec": {
   "display_name": "Python 3 (ipykernel)",
   "language": "python",
   "name": "python3"
  },
  "language_info": {
   "codemirror_mode": {
    "name": "ipython",
    "version": 3
   },
   "file_extension": ".py",
   "mimetype": "text/x-python",
   "name": "python",
   "nbconvert_exporter": "python",
   "pygments_lexer": "ipython3",
   "version": "3.11.7"
  }
 },
 "nbformat": 4,
 "nbformat_minor": 5
}
